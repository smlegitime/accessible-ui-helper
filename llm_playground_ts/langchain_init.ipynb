{
 "cells": [
  {
   "cell_type": "markdown",
   "metadata": {},
   "source": [
    "## Language model"
   ]
  },
  {
   "cell_type": "code",
   "execution_count": 11,
   "metadata": {},
   "outputs": [
    {
     "data": {
      "text/plain": [
       "[Module: null prototype] { default: {} }"
      ]
     },
     "execution_count": 11,
     "metadata": {},
     "output_type": "execute_result"
    }
   ],
   "source": [
    "import 'dotenv/config'"
   ]
  },
  {
   "cell_type": "code",
   "execution_count": 5,
   "metadata": {},
   "outputs": [],
   "source": [
    "import { ChatOllama } from \"@langchain/ollama\";\n",
    "\n",
    "const llm = new ChatOllama({\n",
    "  model: \"llama3.2:latest\",\n",
    "  temperature: 0,\n",
    "  maxRetries: 2,\n",
    "  // other params...\n",
    "});"
   ]
  },
  {
   "cell_type": "code",
   "execution_count": 6,
   "metadata": {},
   "outputs": [
    {
     "data": {
      "text/plain": [
       "AIMessage {\n",
       "  \"content\": \"Je aime le programmation.\",\n",
       "  \"additional_kwargs\": {},\n",
       "  \"response_metadata\": {\n",
       "    \"model\": \"llama3.2:latest\",\n",
       "    \"created_at\": \"2024-11-05T00:27:02.547371Z\",\n",
       "    \"done_reason\": \"stop\",\n",
       "    \"done\": true,\n",
       "    \"total_duration\": 2305637541,\n",
       "    \"load_duration\": 2067843625,\n",
       "    \"prompt_eval_count\": 45,\n",
       "    \"prompt_eval_duration\": 111975000,\n",
       "    \"eval_count\": 7,\n",
       "    \"eval_duration\": 121474000\n",
       "  },\n",
       "  \"tool_calls\": [],\n",
       "  \"invalid_tool_calls\": [],\n",
       "  \"usage_metadata\": {\n",
       "    \"input_tokens\": 45,\n",
       "    \"output_tokens\": 7,\n",
       "    \"total_tokens\": 52\n",
       "  }\n",
       "}"
      ]
     },
     "execution_count": 6,
     "metadata": {},
     "output_type": "execute_result"
    }
   ],
   "source": [
    "const aiMsg = await llm.invoke([\n",
    "    [\n",
    "      \"system\",\n",
    "      \"You are a helpful assistant that translates English to French. Translate the user sentence.\",\n",
    "    ],\n",
    "    [\"human\", \"I love programming.\"],\n",
    "  ]);\n",
    "  aiMsg;"
   ]
  },
  {
   "cell_type": "code",
   "execution_count": null,
   "metadata": {},
   "outputs": [],
   "source": []
  }
 ],
 "metadata": {
  "kernelspec": {
   "display_name": "Deno",
   "language": "typescript",
   "name": "deno"
  },
  "language_info": {
   "codemirror_mode": "typescript",
   "file_extension": ".ts",
   "mimetype": "text/x.typescript",
   "name": "typescript",
   "nbconvert_exporter": "script",
   "pygments_lexer": "typescript",
   "version": "5.6.2"
  }
 },
 "nbformat": 4,
 "nbformat_minor": 2
}
